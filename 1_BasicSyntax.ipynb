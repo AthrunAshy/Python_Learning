{
 "cells": [
  {
   "cell_type": "markdown",
   "metadata": {},
   "source": [
    "# Python基础"
   ]
  },
  {
   "cell_type": "markdown",
   "metadata": {},
   "source": [
    "## 语法"
   ]
  },
  {
   "cell_type": "markdown",
   "metadata": {},
   "source": [
    "- Python 使用换行符来完成命令，每一行都是一个语句，而非如其他语言一般使用分号或括号。\n",
    "\n",
    "- Python 依靠缩进，使用缩进来定义范围，例如循环、函数和类的范围，而非如其他语言一般使用大括号。\n",
    "\n",
    "- Python 使用缩进来指示代码块，当语句以冒号 `:` 结尾时，缩进的语句视为代码块，而非如其他语言一般，代码中的缩进只是为了可读性。\n",
    "\n",
    "- Python 具有用于代码内文档的注释功能。注释以 `#` 开头，Python 会将该行的其后部分呈现为注释。\n",
    "\n",
    "- Python 是大小写敏感的。"
   ]
  },
  {
   "cell_type": "code",
   "execution_count": 8,
   "metadata": {},
   "outputs": [
    {
     "name": "stdout",
     "output_type": "stream",
     "text": [
      "Hello World!\n"
     ]
    }
   ],
   "source": [
    "# 这是一条注释。\n",
    "# 这是另一条注释。\n",
    "if True:\n",
    "    print(\"Hello World!\")  # print前面若无缩进，则会报错。"
   ]
  },
  {
   "cell_type": "markdown",
   "metadata": {},
   "source": [
    "### 输出"
   ]
  },
  {
   "cell_type": "markdown",
   "metadata": {},
   "source": [
    "`print()` 将括号内的内容输出到终端，括号中需要输出的字符串用双引号 `\"` 前后括起来，所有引号内的空间，诸如空格与制表符，都将按原样保留；"
   ]
  },
  {
   "cell_type": "code",
   "execution_count": 9,
   "metadata": {},
   "outputs": [
    {
     "name": "stdout",
     "output_type": "stream",
     "text": [
      "Hello World!\n"
     ]
    }
   ],
   "source": [
    "print(\"Hello World!\")"
   ]
  },
  {
   "cell_type": "markdown",
   "metadata": {},
   "source": [
    "若字符串中已有`\"\"`，则改为用单引号`'`前后括起来；"
   ]
  },
  {
   "cell_type": "code",
   "execution_count": 10,
   "metadata": {},
   "outputs": [
    {
     "name": "stdout",
     "output_type": "stream",
     "text": [
      "\"Hello World!\"\n",
      "'Hello World!'\n"
     ]
    }
   ],
   "source": [
    "print('\"Hello World!\"')\n",
    "print(\"'Hello World!'\")"
   ]
  },
  {
   "cell_type": "markdown",
   "metadata": {},
   "source": [
    "`print()` 可以使用逗号 `,` 来分隔多个字符串，这些字符串默认会被空格分隔；"
   ]
  },
  {
   "cell_type": "code",
   "execution_count": 11,
   "metadata": {},
   "outputs": [
    {
     "name": "stdout",
     "output_type": "stream",
     "text": [
      "Hello World! Let's get started!\n"
     ]
    }
   ],
   "source": [
    "print(\"Hello World!\",\"Let's get started!\")"
   ]
  },
  {
   "cell_type": "markdown",
   "metadata": {},
   "source": [
    "在字符串最后加上 `sep` 参数，可自定义分隔符，比如将分隔符改为换行符；也可每行写一个 `print()` ，每个 `print()` 会默认在一行结尾加上换行符；"
   ]
  },
  {
   "cell_type": "code",
   "execution_count": 12,
   "metadata": {},
   "outputs": [
    {
     "name": "stdout",
     "output_type": "stream",
     "text": [
      "Hello\n",
      "world\n",
      "this\n",
      "is\n",
      "Python\n",
      "Hello\n",
      "World\n",
      "this is Python\n"
     ]
    }
   ],
   "source": [
    "print(\"Hello\", \"world\", \"this\", \"is\", \"Python\", sep = '\\n')\n",
    "print(\"Hello\")  \n",
    "print(\"World\")  \n",
    "print(\"this is Python\")"
   ]
  },
  {
   "cell_type": "markdown",
   "metadata": {},
   "source": [
    "如果不想要换行，可在字符串后加上 `end` 参数，将默认的换行符替换为所需字符；"
   ]
  },
  {
   "cell_type": "code",
   "execution_count": 13,
   "metadata": {},
   "outputs": [
    {
     "name": "stdout",
     "output_type": "stream",
     "text": [
      "Hello, World, this is Python."
     ]
    }
   ],
   "source": [
    "print(\"Hello\", end = ', ')  \n",
    "print(\"World\", end = ', ')  \n",
    "print(\"this is Python\",end = '.')"
   ]
  },
  {
   "cell_type": "markdown",
   "metadata": {},
   "source": [
    "使用三个单引号 `'''` 或三个双引号 `\"\"\"` 来指定多行字符串；"
   ]
  },
  {
   "cell_type": "code",
   "execution_count": 14,
   "metadata": {},
   "outputs": [
    {
     "name": "stdout",
     "output_type": "stream",
     "text": [
      "\n",
      "这是第一行。\n",
      "这是第二行。\n",
      "这是第三行。\n",
      "\n"
     ]
    }
   ],
   "source": [
    "# 使用三引号字符串  \n",
    "multi_line_string = \"\"\"\n",
    "这是第一行。\n",
    "这是第二行。\n",
    "这是第三行。\n",
    "\"\"\"\n",
    "\n",
    "# 输出多行字符串  \n",
    "print(multi_line_string)"
   ]
  },
  {
   "cell_type": "markdown",
   "metadata": {},
   "source": [
    "三引号字符串中的换行符、制表符、引号、空格和缩进都将被保留，因此输出将准确反映原始字符串的格式，其常用于多行注释和文档字符串，用于解释函数、类或模块的功能；"
   ]
  },
  {
   "cell_type": "code",
   "execution_count": 15,
   "metadata": {},
   "outputs": [
    {
     "name": "stdout",
     "output_type": "stream",
     "text": [
      "\n",
      "“这是第一行。”\n",
      "\n",
      "‘这是第二行。’\n",
      "\n",
      "    这是第三行。\n",
      "\n",
      "\n",
      "“这是第一行。”\n",
      "\n",
      "‘这是第二行。’\n",
      "\n",
      "    这是第三行。\n",
      "\n"
     ]
    }
   ],
   "source": [
    "# 使用三引号字符串，并在每行之间添加额外的换行符\n",
    "multi_line_string = \"\"\"\n",
    "“这是第一行。”\n",
    "\n",
    "‘这是第二行。’\n",
    "\n",
    "    这是第三行。\n",
    "\"\"\"\n",
    "# 输出多行字符串\n",
    "print(multi_line_string)\n",
    "\n",
    "# 三引号既可以是三个双引号，也可以是三个单引号，效果一样\n",
    "multi_line_string_1 = '''\n",
    "“这是第一行。”\n",
    "\n",
    "‘这是第二行。’\n",
    "\n",
    "    这是第三行。\n",
    "'''\n",
    "# 输出多行字符串\n",
    "print(multi_line_string_1)"
   ]
  },
  {
   "cell_type": "markdown",
   "metadata": {},
   "source": [
    "#### 格式化数据"
   ]
  },
  {
   "cell_type": "markdown",
   "metadata": {},
   "source": [
    "`format()` 方法用于格式化字符串。它有两种主要用法：\n",
    "1. 通过位置参数\n",
    "2. 通过关键字参数。\n",
    "\n",
    "下面是一些使用 `format()` 方法的示例："
   ]
  },
  {
   "cell_type": "markdown",
   "metadata": {},
   "source": [
    "##### 1.使用位置参数"
   ]
  },
  {
   "cell_type": "markdown",
   "metadata": {},
   "source": [
    "`{}` 是占位符，`format()` 方法中的参数会按顺序替换这些占位符；<br><br>\n",
    "Python从0开始计数，索引中的第一位是0，第二位是1，以此类推；<br><br>\n",
    "`{0}` 对应的是变量 `\"Alice\"`，是该格式化方法中的**第一个**参数，`{1}` 对应的是变量 `\"Monday\"`，是该格式化方法中的**第二个**参数；"
   ]
  },
  {
   "cell_type": "code",
   "execution_count": 16,
   "metadata": {},
   "outputs": [
    {
     "name": "stdout",
     "output_type": "stream",
     "text": [
      "Hello, Alice! Today is Monday.\n",
      "Hello, Alice! Today is Monday.\n",
      "Hello, Monday! Today is Alice.\n"
     ]
    }
   ],
   "source": [
    "template = \"Hello, {}! Today is {}.\"\n",
    "print(template.format(\"Alice\", \"Monday\"))\n",
    "\n",
    "template = \"Hello, {0}! Today is {1}.\"\n",
    "print(template.format(\"Alice\", \"Monday\"))\n",
    "\n",
    "template = \"Hello, {1}! Today is {0}.\"\n",
    "print(template.format(\"Alice\", \"Monday\"))"
   ]
  },
  {
   "cell_type": "markdown",
   "metadata": {},
   "source": [
    "##### 2.使用关键字参数"
   ]
  },
  {
   "cell_type": "markdown",
   "metadata": {},
   "source": [
    "`format()` 方法中的参数会按关键字名称替换，使用关键字参数可以让代码更具可读性；"
   ]
  },
  {
   "cell_type": "code",
   "execution_count": 17,
   "metadata": {},
   "outputs": [
    {
     "name": "stdout",
     "output_type": "stream",
     "text": [
      "Hello, Alice! Today is Monday.\n",
      "Hello, Alice! Today is Monday.\n"
     ]
    }
   ],
   "source": [
    "template = \"Hello, {name}! Today is {day}.\"\n",
    "print(template.format(name=\"Alice\", day=\"Monday\"))\n",
    "\n",
    "template = \"Hello, {name}! Today is {day}.\"\n",
    "print(template.format(day=\"Monday\", name=\"Alice\"))"
   ]
  },
  {
   "cell_type": "markdown",
   "metadata": {},
   "source": [
    "##### 3. `str.format()` 方法"
   ]
  },
  {
   "cell_type": "markdown",
   "metadata": {},
   "source": [
    " `str.format()` 方法用于更复杂的格式化选项；\n",
    " - 格式化数字"
   ]
  },
  {
   "cell_type": "code",
   "execution_count": 18,
   "metadata": {},
   "outputs": [
    {
     "name": "stdout",
     "output_type": "stream",
     "text": [
      "123.46\n",
      "123.457\n",
      "0012\n"
     ]
    }
   ],
   "source": [
    "# 格式化浮点数，保留两位小数\n",
    "price = 123.4567\n",
    "print(\"{:.2f}\".format(price))\n",
    "\n",
    "price = 123.4567\n",
    "print(\"{:.3f}\".format(price))\n",
    "\n",
    "# 格式化整数，用0填充至指定宽度\n",
    "number = 12\n",
    "print(\"{:04d}\".format(number))"
   ]
  },
  {
   "cell_type": "markdown",
   "metadata": {},
   "source": [
    "- 填充和对齐字符串"
   ]
  },
  {
   "cell_type": "code",
   "execution_count": 19,
   "metadata": {},
   "outputs": [
    {
     "name": "stdout",
     "output_type": "stream",
     "text": [
      "  hello   \n",
      "~~hello~~~\n",
      "__hello___\n",
      "     hello\n",
      "_____hello\n",
      "hello     \n",
      "hello=====\n"
     ]
    }
   ],
   "source": [
    "text = \"hello\"\n",
    "print(\"{:^10}\".format(text))  # 居中，总宽度为10\n",
    "print(\"{:~^10}\".format(text))  # 居中，总宽度为10，文字以外用~填充\n",
    "print(\"{:_^10}\".format(text))  # 居中，总宽度为10，文字以外用_填充\n",
    "print(\"{:>10}\".format(text))  # 右对齐，总宽度为10\n",
    "print(\"{:_>10}\".format(text))  # 右对齐，总宽度为10，文字以外用_填充\n",
    "print(\"{:<10}\".format(text))  # 左对齐，总宽度为10\n",
    "print(\"{:=<10}\".format(text))  # 左对齐，总宽度为10，文字以外用=填充"
   ]
  },
  {
   "cell_type": "markdown",
   "metadata": {},
   "source": [
    "- 格式化多个值"
   ]
  },
  {
   "cell_type": "code",
   "execution_count": 20,
   "metadata": {},
   "outputs": [
    {
     "name": "stdout",
     "output_type": "stream",
     "text": [
      "Hello, Alice! The value of x is 1, y is 2.34, and z is world.\n"
     ]
    }
   ],
   "source": [
    "x = 1\n",
    "y = 2.34\n",
    "z = \"world\"\n",
    "print(\"Hello, {}! The value of x is {}, y is {:.2f}, and z is {}.\".format(\"Alice\", x, y, z))"
   ]
  },
  {
   "cell_type": "markdown",
   "metadata": {},
   "source": [
    "从Python 3.6开始，可以使用 `f-string` 来格式化字符串,更加简洁、直观；"
   ]
  },
  {
   "cell_type": "code",
   "execution_count": 21,
   "metadata": {},
   "outputs": [
    {
     "name": "stdout",
     "output_type": "stream",
     "text": [
      "Hello, Alice! Today is Monday.\n"
     ]
    }
   ],
   "source": [
    "name = \"Alice\"\n",
    "day = \"Monday\"\n",
    "print(f\"Hello, {name}! Today is {day}.\")"
   ]
  },
  {
   "cell_type": "markdown",
   "metadata": {},
   "source": [
    "#### 转义序列"
   ]
  },
  {
   "cell_type": "markdown",
   "metadata": {},
   "source": [
    "通过 `\\` 来指定字符串中不能直接输入的字符，如单引号 `\\'` 、双引号 `\\\"` 、换行符 `\\n` 、制表符 `\\t` 和反引号 `\\\\` 等；"
   ]
  },
  {
   "cell_type": "code",
   "execution_count": 22,
   "metadata": {},
   "outputs": [
    {
     "name": "stdout",
     "output_type": "stream",
     "text": [
      "He said: 'Hello!'\n",
      "He said: \"Hello!\"\n",
      "Hello\n",
      "World\n",
      "Hello\tWorld\n",
      "C:\\Users\\Username\n"
     ]
    }
   ],
   "source": [
    "print('He said: \\'Hello!\\'')  # 单引号\n",
    "print(\"He said: \\\"Hello!\\\"\")  # 双引号\n",
    "print(\"Hello\\nWorld\")  # 换行符\n",
    "print(\"Hello\\tWorld\")  # 制表符\n",
    "print(\"C:\\\\Users\\\\Username\")  #反引号"
   ]
  },
  {
   "cell_type": "markdown",
   "metadata": {},
   "source": [
    "#### 原始字符串"
   ]
  },
  {
   "cell_type": "markdown",
   "metadata": {},
   "source": [
    "在处理文件路径或正则表达式时，反斜杠 `\\` 经常作为普通字符出现，这时就需要使用原始字符串，它不会将反斜杠处理为转义字符；\n",
    "\n",
    "原始字符串通过在字符串前加上字母 `r` 或 `R` 来定义；"
   ]
  },
  {
   "cell_type": "code",
   "execution_count": 23,
   "metadata": {},
   "outputs": [
    {
     "name": "stdout",
     "output_type": "stream",
     "text": [
      "This is a string with a newline: \n",
      "\n",
      "This is a raw string with a backslash: \\n\n",
      "C:\\Users\\Username\\Documents\n",
      "C:\\Users\\Username\\Documents\n"
     ]
    }
   ],
   "source": [
    "# 普通字符串  \n",
    "string = \"This is a string with a newline: \\n\"  # 末尾的\\n被处理成换行符\n",
    "print(string)  \n",
    "# 原始字符串  \n",
    "raw_string = r\"This is a raw string with a backslash: \\n\"  # 末尾的\\n被认为是字符串的一部分不进行处理\n",
    "print(raw_string)\n",
    "\n",
    "# 使用普通字符串表示Windows文件路径  \n",
    "path1 = \"C:\\\\Users\\\\Username\\\\Documents\"  \n",
    "print(path1)\n",
    "# 使用原始字符串表示Windows文件路径  \n",
    "path2 = r\"C:\\Users\\Username\\Documents\"  # 使用原始字符串表示文件路径更加简洁\n",
    "print(path2)"
   ]
  },
  {
   "cell_type": "markdown",
   "metadata": {},
   "source": [
    "### 变量"
   ]
  },
  {
   "cell_type": "markdown",
   "metadata": {},
   "source": [
    "#### 命名规则"
   ]
  },
  {
   "cell_type": "markdown",
   "metadata": {},
   "source": [
    "python 使用变量前不需要声明它们的类型，每个变量都是一个对象，当第一次为变量赋值时，这个变量就被创建了；\n",
    "\n",
    "- 第一个字符必须是大写或小写字母或下划线 `_` ；\n",
    "- 其它部分可以由大小写字母、数字和下划线组成；\n",
    "- 命名是大小写敏感的；"
   ]
  },
  {
   "cell_type": "code",
   "execution_count": 24,
   "metadata": {},
   "outputs": [
    {
     "name": "stdout",
     "output_type": "stream",
     "text": [
      "This is the right examples:aAa1a_1_A\n",
      "This is the wrong examples:2daysgood jobmy-name>1y\n"
     ]
    }
   ],
   "source": [
    "right_var = (\n",
    "    \"a\"\n",
    "    \"A\"\n",
    "    \"a1\"\n",
    "    \"a_1_A\"\n",
    ")\n",
    "wrong_var =(\n",
    "    \"2days\"\n",
    "    \"good job\"\n",
    "    \"my-name\"\n",
    "    \">1y\"\n",
    ")\n",
    "print(\"This is the right examples:{}\".format(right_var))\n",
    "print(\"This is the wrong examples:{}\".format(wrong_var))"
   ]
  },
  {
   "cell_type": "markdown",
   "metadata": {},
   "source": [
    "#### 数据类型"
   ]
  },
  {
   "cell_type": "markdown",
   "metadata": {},
   "source": [
    "- 基本类型有数字、字符串等；\n",
    "- 可通过**类**（Classes）来创建自己的数据类型；"
   ]
  },
  {
   "cell_type": "markdown",
   "metadata": {},
   "source": [
    "#### 对象"
   ]
  },
  {
   "cell_type": "markdown",
   "metadata": {},
   "source": [
    "- python 程序中的任何内容都是对象（Object），包括数字、字符串和函数等，在赋值给变量前不需要声明或定义数据类型；"
   ]
  },
  {
   "cell_type": "code",
   "execution_count": 25,
   "metadata": {},
   "outputs": [
    {
     "name": "stdout",
     "output_type": "stream",
     "text": [
      "1\n",
      "2\n",
      "\n",
      "这是字面常量，\n",
      "也不需要事先声明。\n",
      "\n"
     ]
    }
   ],
   "source": [
    "# 无需事先声明\n",
    "first_var = 1\n",
    "print(first_var)\n",
    "first_var = first_var + 1\n",
    "print(first_var)\n",
    "\n",
    "first_string = '''\n",
    "这是字面常量，\n",
    "也不需要事先声明。\n",
    "'''\n",
    "print(first_string)"
   ]
  },
  {
   "cell_type": "markdown",
   "metadata": {},
   "source": [
    "#### 逻辑行与物理行"
   ]
  },
  {
   "cell_type": "markdown",
   "metadata": {},
   "source": [
    "- Python 假定每一**物理行**会对应一个**逻辑行**，会在每个物理行后默认加上 `;` 代表逻辑行结束；\n",
    "- 要在一个物理行里塞下多个逻辑行，则需要在每一逻辑行后以 `;` 结束；（但不建议如此做）\n",
    "- 对于每一行物理行最多只写入一行逻辑行"
   ]
  },
  {
   "cell_type": "markdown",
   "metadata": {},
   "source": [
    "对于过长的代码或者字符串，可用反斜杠将其分成多行以提高可读性，反斜杠作为行继续符，告诉Python解释器下一行是当前字符串的继续；\n",
    "\n",
    "这是显式行连接（Explicit Line Joining）；"
   ]
  },
  {
   "cell_type": "code",
   "execution_count": 26,
   "metadata": {},
   "outputs": [
    {
     "name": "stdout",
     "output_type": "stream",
     "text": [
      "这是一个非常长的字符串，它跨越多行来提高可读性。每一行后面的反斜杠告诉Python这行还没有结束，下一行是这一行的继续。\n",
      "这是一个非常长的字符串，如果没有用反斜杠来分物理行，则不利于阅读，对于长字符串或代码建议分行以提高可读性。\n"
     ]
    }
   ],
   "source": [
    "long_string = \"这是一个非常长的字符串，\\\n",
    "它跨越多行来提高可读性。\\\n",
    "每一行后面的反斜杠告诉Python这行还没有结束，\\\n",
    "下一行是这一行的继续。\"  \n",
    "print(long_string)\n",
    "\n",
    "long_string_1 = \"这是一个非常长的字符串，如果没有用反斜杠来分物理行，则不利于阅读，对于长字符串或代码建议分行以提高可读性。\"  \n",
    "print(long_string_1)"
   ]
  },
  {
   "cell_type": "markdown",
   "metadata": {},
   "source": [
    "对于多行字符串，在Python 3中，可使用圆括号 `(` 和 `)` 来包围多行字符串，而无需在每行的末尾使用反斜杠，达成的效果一致；\n",
    "\n",
    "需要注意的是，被包围的多行字符串的每一行首尾都需要添加引号；"
   ]
  },
  {
   "cell_type": "code",
   "execution_count": 27,
   "metadata": {},
   "outputs": [
    {
     "name": "stdout",
     "output_type": "stream",
     "text": [
      "这是一个非常长的字符串，它跨越多行来提高可读性。每一行都是字符串的一部分，因为整个字符串被圆括号包围。\n"
     ]
    }
   ],
   "source": [
    "long_string = (\n",
    "    \"这是一个非常长的字符串，\"\n",
    "    \"它跨越多行来提高可读性。\"\n",
    "    \"每一行都是字符串的一部分，\"\n",
    "    '因为整个字符串被圆括号包围。' \n",
    ")\n",
    "print(long_string)"
   ]
  },
  {
   "cell_type": "markdown",
   "metadata": {},
   "source": [
    "#### 缩进"
   ]
  },
  {
   "cell_type": "markdown",
   "metadata": {},
   "source": [
    "在逻辑行的开头留下空白区（使用空格或制表符）用以确定各逻辑行的缩进级别；\n",
    "\n",
    "缩进级别用于确定语句的分组；\n",
    "\n",
    "放置在一起的语句必须拥有相同的缩进，每一组这样的语句被称为**块**（block）；\n",
    "\n",
    "一般使用四个空格或者一个制表符来缩进；"
   ]
  },
  {
   "cell_type": "code",
   "execution_count": 28,
   "metadata": {},
   "outputs": [
    {
     "name": "stdout",
     "output_type": "stream",
     "text": [
      "Hello, Athrun.\n"
     ]
    }
   ],
   "source": [
    "# 正确的缩进\n",
    "def greet(name):  \n",
    "    if name:  \n",
    "        print(\"Hello, \" + name + \".\")  \n",
    "    else:  \n",
    "        print(\"Hello, world!\")  \n",
    "  \n",
    "greet(\"Athrun\")"
   ]
  },
  {
   "cell_type": "markdown",
   "metadata": {},
   "source": [
    "### 运算符与表达式"
   ]
  },
  {
   "cell_type": "markdown",
   "metadata": {},
   "source": [
    "表达式可以拆分成 **运算符**（Operators）与 **操作数**（Operands）"
   ]
  },
  {
   "cell_type": "markdown",
   "metadata": {},
   "source": [
    "#### 数字操作：加（+）减（-）乘（*）乘方（**）除（/）整除（//）取模（%）"
   ]
  },
  {
   "cell_type": "code",
   "execution_count": 40,
   "metadata": {},
   "outputs": [
    {
     "name": "stdout",
     "output_type": "stream",
     "text": [
      "ab\n",
      "Hello, Athrun.\n",
      "3 9 aaa\n",
      "81\n",
      "4.333333333333333\n",
      "4\n",
      "-5\n",
      "1\n",
      "2\n",
      "0.75\n",
      "1.5\n"
     ]
    }
   ],
   "source": [
    "# 该组运算符将返回计算值或字符串\n",
    "# 加可将字符串合并\n",
    "x = 'a' + 'b'\n",
    "print(x)\n",
    "\n",
    "def greet(name):  \n",
    "    if name:  \n",
    "        print(\"Hello, \" + name + \".\")\n",
    "    else:  \n",
    "        print(\"Hello, world!\")\n",
    "\n",
    "greet(\"Athrun\")\n",
    "\n",
    "# 乘可返回字符串重复指定次数后的结果\n",
    "a = 3\n",
    "b = a * 3\n",
    "c = 'a' * 3\n",
    "print(a,b,c)\n",
    "\n",
    "# 乘方\n",
    "print(3 ** 4)\n",
    "\n",
    "# 除\n",
    "x = 13\n",
    "y = 3\n",
    "print(x/y)\n",
    "\n",
    "# 整除，对除的结果向下取整至最接近的整数\n",
    "print(13//3)\n",
    "print(-13//3)\n",
    "\n",
    "# 取模，返回除法运算后的余数\n",
    "print(13%3)\n",
    "print(-13%3)\n",
    "print(25.5%2.25)\n",
    "print(-25.5%2.25)"
   ]
  },
  {
   "cell_type": "markdown",
   "metadata": {},
   "source": [
    "#### 数字操作：小于（<）大于（>）小于等于（<=）大于等于（>=）等于（==）不等于（!=）"
   ]
  },
  {
   "cell_type": "code",
   "execution_count": 30,
   "metadata": {},
   "outputs": [
    {
     "name": "stdout",
     "output_type": "stream",
     "text": [
      "False\n"
     ]
    }
   ],
   "source": [
    "# 该组运算符只会返回 True 或者 False\n",
    "# 等于也可比较两个字符串是否一致\n",
    "x = 'var'\n",
    "y = 'Var'\n",
    "print(x == y)"
   ]
  },
  {
   "cell_type": "markdown",
   "metadata": {},
   "source": [
    "#### 二进制数操作：左移（<<）右移（>>）按位与（&）按位或（|）按位异或（^）按位取反（~）"
   ]
  },
  {
   "cell_type": "code",
   "execution_count": 31,
   "metadata": {},
   "outputs": [
    {
     "name": "stdout",
     "output_type": "stream",
     "text": [
      "4\n",
      "5\n",
      "1\n",
      "7\n",
      "6\n",
      "-6\n",
      "4\n"
     ]
    }
   ],
   "source": [
    "# 左移：将二进制数左移，空位补上0\n",
    "print(2 << 1)  # 2的二进制数是10，左移1位，二进制数为100，即4\n",
    "\n",
    "# 右移：将二进制数右移，空位补上0\n",
    "print(11 >> 1)  # 11的二进制数是1011，左移1位，二进制数为0101，即5\n",
    "\n",
    "# 按位与：将两个二进制数的每一位都进行比较，如果两个相应的二进位都为1，则此位为1，否则为0\n",
    "print(5 & 3)  # 5的二进制数为101,3的二进制数为011，按位与结果为001，即1\n",
    "\n",
    "# 按位或：将两个二进制数的每一位都进行比较，如果两个相应的二进位有一个为1，则此位为1，否则为0\n",
    "print(5 | 3)  # 5的二进制数为101,3的二进制数为011，按位或结果为111，即7\n",
    "\n",
    "# 按位异或：将两个二进制数的每一位都进行比较，如果两个相应的二进位不同则此位为1，相同为0。\n",
    "print(5 ^ 3)  # 5的二进制数为101,3的二进制数为011，按位异或结果为110，即6\n",
    "\n",
    "# 按位取反：将两个二进制数的每一个二进位都进行取反操作，0换成1，1换成0。x的按位取反结果为-(x+1)\n",
    "print(~5)\n",
    "print(~-5)"
   ]
  },
  {
   "cell_type": "markdown",
   "metadata": {},
   "source": [
    "#### 布尔运算符：非（not）与（and）或（or）"
   ]
  },
  {
   "cell_type": "code",
   "execution_count": 32,
   "metadata": {},
   "outputs": [
    {
     "name": "stdout",
     "output_type": "stream",
     "text": [
      "False\n"
     ]
    }
   ],
   "source": [
    "# 该组运算符针对 True 和 False 进行操作\n",
    "# 非\n",
    "x = True\n",
    "print(not x)"
   ]
  },
  {
   "cell_type": "markdown",
   "metadata": {},
   "source": [
    "#### 数值运算与赋值的快捷表达方式"
   ]
  },
  {
   "cell_type": "markdown",
   "metadata": {},
   "source": [
    "对一个变量进行一项数学运算并将运算得出的结果返回给这个变量，对于这类运算有如下的快捷表达方式："
   ]
  },
  {
   "cell_type": "code",
   "execution_count": 33,
   "metadata": {},
   "outputs": [
    {
     "name": "stdout",
     "output_type": "stream",
     "text": [
      "6 1.0\n"
     ]
    }
   ],
   "source": [
    "a = 2\n",
    "a *= 3  # 相当于 a = a * 3\n",
    "b = 2\n",
    "b /=2  #相当于 b = b / 2\n",
    "print(a,b)"
   ]
  },
  {
   "cell_type": "markdown",
   "metadata": {},
   "source": [
    "#### 求值顺序"
   ]
  },
  {
   "cell_type": "markdown",
   "metadata": {},
   "source": [
    "- python 求值顺序与基本的数学常识一致，先求幂，再正负后乘除再加减，先**非**后**与**再**或**；\n",
    "\n",
    "- 可用括号改变求值顺序，并使表达式更加易读；"
   ]
  },
  {
   "cell_type": "code",
   "execution_count": 34,
   "metadata": {},
   "outputs": [
    {
     "name": "stdout",
     "output_type": "stream",
     "text": [
      "False\n"
     ]
    }
   ],
   "source": [
    "# 先计算 not True，结果为 False；再计算 False and True，结果为 False；最后计算 False or False，结果为False\n",
    "result = not True or False and True\n",
    "print(result)"
   ]
  },
  {
   "cell_type": "markdown",
   "metadata": {},
   "source": [
    "### 控制流语句"
   ]
  },
  {
   "cell_type": "markdown",
   "metadata": {},
   "source": [
    "#### if 语句"
   ]
  },
  {
   "cell_type": "markdown",
   "metadata": {},
   "source": [
    "python 中的 `if-elif-else` 语句和C++中的逻辑上没有区别，使用时注意代码块前需要加冒号，以及代码块的缩进；"
   ]
  },
  {
   "cell_type": "code",
   "execution_count": 35,
   "metadata": {},
   "outputs": [
    {
     "name": "stdout",
     "output_type": "stream",
     "text": [
      "Congratulations, you guessed it.\n",
      "(but no prizes!)\n"
     ]
    }
   ],
   "source": [
    "answer = 42\n",
    "# input返回字符串，int将字符串转化为整数并储存在guess中\n",
    "guess = int(input('Enter an integer : '))\n",
    "# if语句之后需要添加冒号，表示后续有一块语句\n",
    "if guess == answer:  \n",
    "    # 新块从此处缩进开始  \n",
    "    print('Congratulations, you guessed it.')  \n",
    "    print('(but no prizes!)')  \n",
    "    # 新块到此处缩进结束  \n",
    "elif guess < answer:  \n",
    "    print('No, it is higher than that.')  \n",
    "else:  \n",
    "    print('No, it is lower than that.')"
   ]
  },
  {
   "cell_type": "markdown",
   "metadata": {},
   "source": [
    "#### while 语句"
   ]
  },
  {
   "cell_type": "markdown",
   "metadata": {},
   "source": [
    " Python 中，可以在 `while` 循环之后使用 `else` 子句；"
   ]
  },
  {
   "cell_type": "code",
   "execution_count": 36,
   "metadata": {},
   "outputs": [
    {
     "name": "stdout",
     "output_type": "stream",
     "text": [
      "Congratulations, you guessed it.\n",
      "(but no prizes!)\n",
      "The while loop is over.\n"
     ]
    }
   ],
   "source": [
    "answer = 42\n",
    "whether_continue = True\n",
    "\n",
    "while whether_continue:\n",
    "    guess = int(input('Enter an integer : '))\n",
    "    if guess == answer:  \n",
    "        print('Congratulations, you guessed it.')  \n",
    "        print('(but no prizes!)')  \n",
    "        # 通过变量whether_continue来控制while循环的继续与停止\n",
    "        whether_continue = False\n",
    "    elif guess < answer:   \n",
    "        print('No, it is higher than that.')  \n",
    "    else:  \n",
    "        print('No, it is lower than that.')\n",
    "else:\n",
    "    print(\"The while loop is over.\")"
   ]
  },
  {
   "cell_type": "markdown",
   "metadata": {},
   "source": [
    " `else` 子句中的代码块会在 `while` 循环条件变为 `False` 时执行，除非在循环中遇到了 `break` 语句而提前跳出循环；"
   ]
  },
  {
   "cell_type": "code",
   "execution_count": 37,
   "metadata": {},
   "outputs": [
    {
     "name": "stdout",
     "output_type": "stream",
     "text": [
      "找到了目标元素 5，索引位置为 4。\n"
     ]
    }
   ],
   "source": [
    "# 定义一个列表\n",
    "numbers = [1, 2, 3, 4, 5, 6, 7, 8, 9, 10]\n",
    "\n",
    "# 要查找的目标元素\n",
    "target = 5\n",
    "\n",
    "# 使用 while 循环遍历列表\n",
    "index = 0\n",
    "# len()函数返回numbers列表的长度\n",
    "while index < len(numbers):\n",
    "    # 如果找到目标元素，则输出并跳出循环\n",
    "    if numbers[index] == target:\n",
    "        print(\"找到了目标元素 {}，索引位置为 {}。\".format(target, index))\n",
    "        # python索引从0开始\n",
    "        break\n",
    "    index += 1\n",
    "else:\n",
    "    # 如果 while 循环正常结束而不是通过 break 跳出，则说明列表中不存在目标元素\n",
    "    print(\"未找到目标元素 {}。\".format(target))"
   ]
  },
  {
   "cell_type": "markdown",
   "metadata": {},
   "source": [
    "#### for 循环"
   ]
  },
  {
   "cell_type": "markdown",
   "metadata": {},
   "source": [
    "`for...in` 语句能在任何序列中工作，会遍历序列中的每一个项目；\n",
    "\n",
    "当循环正常结束后（即没有因为 `break` 语句而提前退出）， `else` 子句会被执行；\n",
    "\n",
    "如果循环因为某种原因（如异常）被中断，则`else` 子句不会被执行；"
   ]
  },
  {
   "cell_type": "code",
   "execution_count": 43,
   "metadata": {},
   "outputs": [
    {
     "name": "stdout",
     "output_type": "stream",
     "text": [
      "1\n",
      "3\n",
      "The for loop is over\n"
     ]
    }
   ],
   "source": [
    "# range函数生成一串数字列表\n",
    "# range(1, 5) 默认以1为递增加数步进，输出[1,2,3,4]，`range(1, 5)` 可认为是左闭右开区间）\n",
    "# range(1, 5, 2) 以2为递增加数步进，输出[1,3]\n",
    "for i in range(1, 5, 2):  \n",
    "    print(i)  \n",
    "else:  \n",
    "    print('The for loop is over')"
   ]
  },
  {
   "cell_type": "markdown",
   "metadata": {},
   "source": [
    "#### break 语句"
   ]
  },
  {
   "cell_type": "markdown",
   "metadata": {},
   "source": [
    "`break` 语句用以中止循环语句的执行，即使循环条件没有变更为 `False`，队列中的项目尚未完全迭代；\n",
    "\n",
    "若中断了一个 `for` 或 `while` 循环，相应循环中的 `else` 块都将不会被执行；"
   ]
  },
  {
   "cell_type": "code",
   "execution_count": null,
   "metadata": {},
   "outputs": [],
   "source": [
    "# while True无限循环语句，只有满足break条件才会结束循环\n",
    "while True:  \n",
    "    s = input('Enter something: ')  \n",
    "    if s == 'quit':  \n",
    "        break  \n",
    "    print('Length of the string is', len(s))  \n",
    "print('The for loop is over')"
   ]
  },
  {
   "cell_type": "code",
   "execution_count": 7,
   "metadata": {},
   "outputs": [
    {
     "name": "stdout",
     "output_type": "stream",
     "text": [
      "0\n",
      "1\n",
      "2\n",
      "3\n",
      "4\n",
      "5\n",
      "6\n",
      "7\n"
     ]
    }
   ],
   "source": [
    "for i in range(0,10):\n",
    "    if i > 7:\n",
    "        break\n",
    "    else:\n",
    "        print(i)"
   ]
  },
  {
   "cell_type": "markdown",
   "metadata": {},
   "source": [
    "#### continue 语句"
   ]
  },
  {
   "cell_type": "markdown",
   "metadata": {},
   "source": [
    "`continue` 语句用以告诉Python 跳过当前循环块中的剩余语句，并继续该循环的下一次迭代；\n",
    "\n",
    "`break` 会完全终止循环，`continue` 会跳过当前循环的剩余部分，继续下一次循环；\n"
   ]
  },
  {
   "cell_type": "code",
   "execution_count": 2,
   "metadata": {},
   "outputs": [],
   "source": [
    "while True:\n",
    "    s = input('Enter something: ')\n",
    "    if s == 'quit':\n",
    "        break\n",
    "    if len(s) < 3:  \n",
    "        print('Too small')\n",
    "        continue\n",
    "    print('Input is of sufficient length')"
   ]
  },
  {
   "cell_type": "code",
   "execution_count": null,
   "metadata": {},
   "outputs": [],
   "source": [
    "numbers = [1, 2, 3, 4, 5, 6, 7, 8, 9, 10]  \n",
    "  \n",
    "for num in numbers: \n",
    "    # 检查数字是否为奇数 \n",
    "    if num % 2 != 0:\n",
    "        # 如果是奇数，跳过本次循环的剩余部分\n",
    "        continue\n",
    "    # 如果是偶数，打印该数字\n",
    "    print(num)"
   ]
  },
  {
   "cell_type": "markdown",
   "metadata": {},
   "source": [
    "### 函数"
   ]
  },
  {
   "cell_type": "markdown",
   "metadata": {},
   "source": [
    "- 函数（Functions）是指可重复使用的程序片段，python 内置了许多函数可直接调用；\n",
    "- 函数通过关键字 `def` 来定义，后跟函数的标识符名称，再跟一对圆括号，其中可以包含以逗号分隔的函数的参数，最后以冒号结尾；\n",
    "- 定义函数时给定的名称称作 `形参`（Parameters），在调用函数时所提供给函数的值称作 `实参`（Arguments）；"
   ]
  },
  {
   "cell_type": "code",
   "execution_count": 5,
   "metadata": {},
   "outputs": [
    {
     "name": "stdout",
     "output_type": "stream",
     "text": [
      "4 is maximum.\n",
      "6 is maximum.\n"
     ]
    }
   ],
   "source": [
    "def print_max(a,b):\n",
    "    if a > b:\n",
    "        print(a,'is maximum.')\n",
    "    elif a < b:\n",
    "        print(b,'is maximum.')\n",
    "    else:\n",
    "        print(a,'is equal to',b)\n",
    "\n",
    "# 直接传递函数值\n",
    "print_max(3,4)\n",
    "\n",
    "#通过参数形式传递变量\n",
    "x = 6\n",
    "y = 5.6\n",
    "print_max(x,y)"
   ]
  },
  {
   "cell_type": "markdown",
   "metadata": {},
   "source": [
    "#### 局部变量"
   ]
  },
  {
   "cell_type": "markdown",
   "metadata": {},
   "source": [
    "- 在一个函数的定义中声明变量时，它们不会以任何方式与身处函数之外但具有相同名称的变量产生关系；\n",
    "- 函数内的变量名只存在于函数这一**局部**（Local）。该函数也被称为变量的**作用域**（Scope）；\n",
    "- 所有变量的作用域是它们被定义的块，从定义它们的名字的定义点开始；"
   ]
  },
  {
   "cell_type": "code",
   "execution_count": 10,
   "metadata": {},
   "outputs": [
    {
     "name": "stdout",
     "output_type": "stream",
     "text": [
      "The original x is 10\n",
      "Now x is 2\n",
      "10\n",
      "The original y is 50\n",
      "Now y is 3\n",
      "3\n"
     ]
    }
   ],
   "source": [
    "x = 10\n",
    "def x_change(x):\n",
    "    print('The original x is',x)\n",
    "    x = 2  # 改变函数中局部变量，不影响主代码中同名变量\n",
    "    print('Now x is',x)\n",
    "\n",
    "x_change(x)\n",
    "print(x)\n",
    "\n",
    "y = 50\n",
    "def y_change(y):\n",
    "    print('The original y is',y)\n",
    "    y = 3\n",
    "    print('Now y is',y)\n",
    "    return y\n",
    "\n",
    "y = y_change(y)  # 将函数返回的值赋回给y，才改变了函数外y的值\n",
    "print(y)"
   ]
  },
  {
   "cell_type": "markdown",
   "metadata": {},
   "source": [
    "#### 全局变量"
   ]
  },
  {
   "cell_type": "markdown",
   "metadata": {},
   "source": [
    "- 为一个在程序顶层的变量赋值（其不存在于任何作用域中，无论是函数还是类），则必须使用 `global` 语句；\n",
    "- 使用 `global` 语句可明确该变量为**全局变量**，以此与函数中其他局部变量区分开；\n",
    "- 可以在同一句 `global` 语句中指定不止一个的全局变量，如 `global x, y, z`；"
   ]
  },
  {
   "cell_type": "code",
   "execution_count": 14,
   "metadata": {},
   "outputs": [
    {
     "name": "stdout",
     "output_type": "stream",
     "text": [
      "The original x is 10\n",
      "Now x is 2\n"
     ]
    }
   ],
   "source": [
    "x = 10\n",
    "def x_change():\n",
    "    global x  # 声明x为全局变量\n",
    "    print('The original x is',x)\n",
    "    x = 2  # 由于前面声明了x为全局变量，此处对x的赋值会直接影响主代码中同名变量\n",
    "    \n",
    "x_change()\n",
    "print('Now x is',x)"
   ]
  },
  {
   "cell_type": "markdown",
   "metadata": {},
   "source": [
    "#### 默认参数"
   ]
  },
  {
   "cell_type": "markdown",
   "metadata": {},
   "source": [
    "- 可为函数的参数设置默认值，当调用函数时，若没有为某个参数提供值，则使用默认值；\n",
    "- 默认参数值一般是常量（数字或者字符串）；\n",
    "- 在函数的参数列表中拥有默认参数值的参数不能位于没有默认参数值的参数之前；"
   ]
  },
  {
   "cell_type": "code",
   "execution_count": 19,
   "metadata": {},
   "outputs": [
    {
     "name": "stdout",
     "output_type": "stream",
     "text": [
      "Hello \n",
      "World World World World World \n",
      "Hello World !\n",
      "Hello Athrun !\n"
     ]
    }
   ],
   "source": [
    "# 默认参数值为数字\n",
    "def say(message, times=1, sep=' '):\n",
    "    print((message + sep) * times)\n",
    "\n",
    "say('Hello')\n",
    "say('World', 5)\n",
    "\n",
    "# 默认参数值为字符串\n",
    "def Hello(name='World'):\n",
    "    print('Hello',name,'!')\n",
    "\n",
    "Hello()\n",
    "Hello('Athrun')"
   ]
  },
  {
   "cell_type": "markdown",
   "metadata": {},
   "source": [
    "#### 位置参数"
   ]
  },
  {
   "cell_type": "markdown",
   "metadata": {},
   "source": [
    "- 位置参数是指在调用函数时根据参数的位置顺序传递的参数；\n",
    "- 位置参数的值与参数的位置顺序一一对应，在调用函数时必须按照定义的顺序传递参数值；"
   ]
  },
  {
   "cell_type": "markdown",
   "metadata": {},
   "source": [
    "#### 关键字参数"
   ]
  },
  {
   "cell_type": "markdown",
   "metadata": {},
   "source": [
    "- 关键字参数是指在调用函数时通过指定参数的名称来传递的参数；\n",
    "- 关键字参数的传递顺序不受限制，函数会根据参数名称来匹配传递的值；"
   ]
  },
  {
   "cell_type": "code",
   "execution_count": 17,
   "metadata": {},
   "outputs": [
    {
     "name": "stdout",
     "output_type": "stream",
     "text": [
      "a is 3 and b is 7 and c is 10\n",
      "a is 25 and b is 5 and c is 24\n",
      "a is 100 and b is 5 and c is 50\n"
     ]
    }
   ],
   "source": [
    "def func(a, b=5, c=10):\n",
    "    print('a is', a, 'and b is', b, 'and c is', c)\n",
    "\n",
    "func(3, 7)\n",
    "func(25, c=24)\n",
    "func(c=50, a=100)  # 使用了关键字参数，无需考虑位置"
   ]
  },
  {
   "cell_type": "markdown",
   "metadata": {},
   "source": [
    "Python 中，位置参数必须位于关键字参数之前，否则会导致语法错误；"
   ]
  },
  {
   "cell_type": "markdown",
   "metadata": {},
   "source": [
    "#### 可变参数"
   ]
  },
  {
   "cell_type": "markdown",
   "metadata": {},
   "source": [
    "- 可变参数是在 Python 中用于处理不定数量位置参数的方式；\n",
    "- 在函数定义中，使用星号 `*` 将参数标记为可变参数；\n",
    "- 在函数体内，可变参数将作为一个**元组**（tuple）来处理；"
   ]
  },
  {
   "cell_type": "markdown",
   "metadata": {},
   "source": [
    "#### 可变关键字参数"
   ]
  },
  {
   "cell_type": "markdown",
   "metadata": {},
   "source": [
    "- 可变关键字参数是在 Python 中用于处理不定数量关键字参数的方式；\n",
    "- 在函数定义中，使用两个星号 `**` 将参数标记为可变参数；\n",
    "- 在函数体内，可变关键字参数将作为一个**字典**（dictionary）来处理；"
   ]
  },
  {
   "cell_type": "code",
   "execution_count": 17,
   "metadata": {},
   "outputs": [
    {
     "name": "stdout",
     "output_type": "stream",
     "text": [
      "a 10\n",
      "single_item 1\n",
      "single_item 2\n",
      "single_item 3\n",
      "Jack 1123\n",
      "John 2231\n",
      "Inge 1560\n"
     ]
    }
   ],
   "source": [
    "def items(a=5, *numbers, **phonebook):\n",
    "    print('a', a)\n",
    "    # 遍历元组中的所有项目\n",
    "    for single_item in numbers:\n",
    "        print('single_item', single_item)\n",
    "    # 遍历字典中的所有项目\n",
    "    for name, phone_num in phonebook.items():\n",
    "        print(name, phone_num)\n",
    "\n",
    "items(10, 1, 2, 3, Jack=1123, John=2231, Inge=1560)\n"
   ]
  },
  {
   "cell_type": "markdown",
   "metadata": {},
   "source": [
    "#### return 语句"
   ]
  },
  {
   "cell_type": "markdown",
   "metadata": {},
   "source": [
    "- `return` 语句用于从函数中返回一个值；\n",
    "- 当函数执行到 `return` 语句时，它会立即结束执行，并将 `return` 后面的表达式的结果作为函数的返回值传递给调用者；\n",
    "- 如果没有提供表达式，`return` 语句将返回 `None`；\n",
    "- `return` 语句也可以用于提前退出函数，即使函数的后续代码没有执行完毕，比如在完成必要的操作后或在检测到错误时提前退出；\n",
    "- `return` 语句还可以返回多个值，Python 会自动将这些值打包成一个元组；"
   ]
  },
  {
   "cell_type": "code",
   "execution_count": 21,
   "metadata": {},
   "outputs": [
    {
     "name": "stdout",
     "output_type": "stream",
     "text": [
      "78.5 Square meters\n"
     ]
    }
   ],
   "source": [
    "def calculate_area(radius):\n",
    "    area = 3.14 * radius * radius\n",
    "    return area, \"Square meters\"  # 两个值合成了一个元组后return出来\n",
    "\n",
    "# 调用函数并解包返回值\n",
    "area_value, unit = calculate_area(5)\n",
    "print(area_value,unit)  # 输出结果应该是 78.5 Square meters"
   ]
  },
  {
   "cell_type": "markdown",
   "metadata": {},
   "source": [
    "#### DocStrings"
   ]
  },
  {
   "cell_type": "markdown",
   "metadata": {},
   "source": [
    "- 定义：是紧跟在**函数**定义、**类**定义或**模块**开头的三引号（单引号 `'''` 或双引号 `\"\"\"`）之间的文本块；\n",
    "- 作用：用于描述函数、类或模块的**功能和用途**，描述代码的**公共接口**，可以被文档生成工具解析生成**项目文档**；\n",
    "- 位置：必须位于定义的开始部分，即在函数体、类体或模块的顶层代码之前；\n",
    "- `DocStrings` 第一行应该是一个简短的描述，概括函数、类或模块的功能；\n",
    "- `DocStrings` 后续行应该提供更详细的描述，包括参数说明、返回值、可能的异常等；\n",
    "- `DocStrings` 可以通过 `__doc__` 属性访问，也可以通过 `help()` 访问；"
   ]
  },
  {
   "cell_type": "code",
   "execution_count": 23,
   "metadata": {},
   "outputs": [
    {
     "name": "stdout",
     "output_type": "stream",
     "text": [
      "Help on function add in module __main__:\n",
      "\n",
      "add(a, b)\n",
      "    计算两个数字的和。\n",
      "\n",
      "    Args:\n",
      "        a (int): 第一个加数。\n",
      "        b (int): 第二个加数。\n",
      "\n",
      "    Returns:\n",
      "        int: 两个数字的和。\n",
      "\n",
      "    Examples:\n",
      "        >>> add(3, 5)\n",
      "        8\n",
      "\n",
      "\n",
      "    计算两个数字的和。\n",
      "\n",
      "    Args:\n",
      "        a (int): 第一个加数。\n",
      "        b (int): 第二个加数。\n",
      "\n",
      "    Returns:\n",
      "        int: 两个数字的和。\n",
      "\n",
      "    Examples:\n",
      "        >>> add(3, 5)\n",
      "        8\n",
      "    \n"
     ]
    }
   ],
   "source": [
    "def add(a, b):\n",
    "    \"\"\"计算两个数字的和。\n",
    "\n",
    "    Args:  \n",
    "        a (int): 第一个加数。\n",
    "        b (int): 第二个加数。\n",
    "\n",
    "    Returns:\n",
    "        int: 两个数字的和。\n",
    "\n",
    "    Examples:\n",
    "        >>> add(3, 5)\n",
    "        8\n",
    "    \"\"\"\n",
    "    return a + b\n",
    "\n",
    "# 使用 help() 函数来获取函数的帮助信息\n",
    "help(add)\n",
    "# 使用 __doc__ 属性来获取函数的文档字符串\n",
    "print(add.__doc__)"
   ]
  },
  {
   "cell_type": "markdown",
   "metadata": {},
   "source": [
    "- 所有公共模块、函数、类、方法都应该写 `DocString`，私有方法不一定需要，但应在 `def` 后提供一个块注释来说明；\n",
    "- `DocString` 的结束 `\"\"\"` 应该独占一行，除非此 `DocString` 只有一行；"
   ]
  },
  {
   "cell_type": "code",
   "execution_count": null,
   "metadata": {},
   "outputs": [],
   "source": [
    "\"\"\"Oneline docstring\"\"\""
   ]
  },
  {
   "cell_type": "markdown",
   "metadata": {},
   "source": [
    "### 模块"
   ]
  },
  {
   "cell_type": "markdown",
   "metadata": {},
   "source": [
    "- import sys 导入sys模块\n",
    "- from math import sqrt 从math模块导入sqrt函数\n",
    "- 模块本身也是一个.py文件，本身也可运行，本身运行时其__name__==__main__\n",
    "- 以此判断它是为自己所用还是从其它从的模块中导入而来\n",
    "- 自己写的模块保存成.py文件，然后放在即将导入这一模块的程序相同的目录下\n",
    "- package > module > function > variable\n",
    "- python 标准库就是一个 package"
   ]
  },
  {
   "cell_type": "markdown",
   "metadata": {},
   "source": [
    "### 数据结构"
   ]
  },
  {
   "cell_type": "markdown",
   "metadata": {},
   "source": [
    "- List（列表） 可变的 方括号[]建立 逗号,分隔 有序 元素可重复\n",
    "- Tuple（元组） 不可变的 圆括号()建立 逗号,分隔 有序 元素可重复\n",
    "- Dict（字典） key:value key不可变 value随意 大括号{}建立 key:value 逗号,分隔 无序 key不可重复 同一key新value会覆盖旧value\n",
    "- Set（集合） 不可变 大括号{}建立 逗号,分隔 无序 不可重复 可进行集合的数学运算\n",
    "- 依据不可变性质可以进行嵌套，实现复杂数据结构 \n",
    "- 四种数据结构都用方括号[]进行索引 有序的按序号索引 从0开始 无序的按key索引\n",
    "- .append() 增加元素\n",
    "- .sort() 排序元素\n",
    "- .remove() 和 del list[] 删除元素\n",
    "- 切片 list[1:-1] 左闭右开 从0开始 -1指list最后一位 -2倒数第二位 list[:]返回整个序列\n",
    "- list[::step] 第三个参数是步长，默认为1，步长为负数表示从后往前遍历 list[::-1]实现反转列表效果\n",
    "- 列表的赋值语句不会创建一份副本，必须使用切片来生成一份序列的副本，保证原本的序列不会被改变 new_list = origin_list[:]\n"
   ]
  },
  {
   "cell_type": "markdown",
   "metadata": {},
   "source": [
    "### 面向对象编程"
   ]
  },
  {
   "cell_type": "markdown",
   "metadata": {},
   "source": [
    "- 类.字段 + 类.方法 = 类.属性\n",
    "- class.instance(self,arg1,...)  class.method(self,arg1,...)  \n",
    "- 创建类记得后面加冒号\n",
    "- self引用类的实例对象本身，无需赋值，通过它可以访问同一类下对象的属性和方法\n",
    "- __init__方法在类的对象被实例化时立即运行，即初始化\n",
    "- 类变量：共享的，可以被属于该类的所有实例访问，它变动会影响所有实例\n",
    "- 对象变量：由类的每一个独立的对象或实例所独有\n",
    "- 用@classmethod 这一内置的装饰器表示其后的方法为类方法，类方法的self参数得改为cls\n",
    "- 调用类方法时，无需创建实例，可直接通过类名调用\n",
    "- 默认类中的字段和方法都是公有的，若前缀两个下划线__表示该属性是私有的，外部无法直接访问"
   ]
  },
  {
   "cell_type": "code",
   "execution_count": 9,
   "metadata": {},
   "outputs": [
    {
     "name": "stdout",
     "output_type": "stream",
     "text": [
      "This is a class method\n",
      "Class attribute: 10\n"
     ]
    }
   ],
   "source": [
    "class MyClass:\n",
    "    class_attribute = 10\n",
    "\n",
    "    @classmethod\n",
    "    def class_method(cls):\n",
    "        print(\"This is a class method\")\n",
    "        print(\"Class attribute:\", cls.class_attribute)\n",
    "\n",
    "# 调用类方法，无需创建类的实例\n",
    "MyClass.class_method()\n"
   ]
  },
  {
   "cell_type": "markdown",
   "metadata": {},
   "source": [
    "- 基类与派生类：基类包含派生类共有一些属性，在此基础上派生类可以各自有自己的属性\n",
    "- 定义好基类后，定义派生类时，以 class 派生类(基类)建立派生类和基类的关系\n",
    "- 若派生类有__init__初始化时，要以 基类.__init__(self,arg1,...) 来显式调用基类的初始化方法，可建立派生类和基类的关系\n",
    "- 派生类中可通过在方法名前面加上基类名作为前缀，再传入 self 和其余变量，来调用基类的方法"
   ]
  },
  {
   "cell_type": "code",
   "execution_count": null,
   "metadata": {},
   "outputs": [],
   "source": [
    "class SchoolMember:\n",
    "    '''基类：代表任何学校里的成员。'''\n",
    "    def __init__(self, name, age):\n",
    "        self.name = name\n",
    "        self.age = age\n",
    "        print('(Initialized SchoolMember: {})'.format(self.name))\n",
    "\n",
    "    def tell(self):\n",
    "        '''展示实例信息'''\n",
    "        print('Name:\"{}\" Age:\"{}\"'.format(self.name, self.age), end=\" \")\n",
    "\n",
    "class Teacher(SchoolMember):  # 括号内是基类名，可以多重继承\n",
    "    '''派生类：代表一位老师。'''\n",
    "    def __init__(self, name, age, salary):  # 派生类初始化\n",
    "        SchoolMember.__init__(self, name, age)  # 从基类中显式调用初始化方法\n",
    "        self.salary = salary  # 添加派生类独有的字段\n",
    "        print('(Initialized Teacher: {})'.format(self.name))\n",
    "\n",
    "    def tell(self):\n",
    "        SchoolMember.tell(self)  # 调用基类的方法\n",
    "        print('Salary: \"{:d}\"'.format(self.salary))\n",
    "\n",
    "class Student(SchoolMember):\n",
    "    '''派生类：代表一位学生。'''\n",
    "    def __init__(self, name, age, marks):\n",
    "        SchoolMember.__init__(self, name, age)\n",
    "        self.marks = marks\n",
    "        print('(Initialized Student: {})'.format(self.name))\n",
    "\n",
    "    def tell(self):\n",
    "        SchoolMember.tell(self)\n",
    "        print('Marks: \"{:d}\"'.format(self.marks))\n",
    "\n",
    "t = Teacher('A', 40, 30000)  # 创建Teacher实例\n",
    "s = Student('B', 25, 75)  # 创建Student实例\n",
    "\n",
    "print()\n",
    "members = [t, s]\n",
    "for member in members:\n",
    "    member.tell()  # 调用基类的tell方法，对两个派生类都有效\n"
   ]
  },
  {
   "cell_type": "markdown",
   "metadata": {},
   "source": [
    "### 文件"
   ]
  },
  {
   "cell_type": "markdown",
   "metadata": {},
   "source": [
    "- file 类下有 open read readline write close等方法\n",
    "- open('文件名','参数') 参数可以是'r'read 'w'write 'a'add 't'文本模式 'b'二进制模式\n",
    "- 如无特殊情况, 文件一律使用 UTF-8 编码\n",
    "- 如无特殊情况, 文件头部必须加入`#-*-coding:utf-8-*-`标识"
   ]
  }
 ],
 "metadata": {
  "kernelspec": {
   "display_name": "Python 3",
   "language": "python",
   "name": "python3"
  },
  "language_info": {
   "codemirror_mode": {
    "name": "ipython",
    "version": 3
   },
   "file_extension": ".py",
   "mimetype": "text/x-python",
   "name": "python",
   "nbconvert_exporter": "python",
   "pygments_lexer": "ipython3",
   "version": "3.12.1"
  }
 },
 "nbformat": 4,
 "nbformat_minor": 2
}
