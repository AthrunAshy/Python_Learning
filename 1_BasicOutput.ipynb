{
 "cells": [
  {
   "cell_type": "markdown",
   "metadata": {},
   "source": [
    "# Python基础"
   ]
  },
  {
   "cell_type": "markdown",
   "metadata": {},
   "source": [
    "## 语法"
   ]
  },
  {
   "cell_type": "markdown",
   "metadata": {},
   "source": [
    "- Python 使用换行符来完成命令，每一行都是一个语句，而非如其他语言一般使用分号或括号。\n",
    "\n",
    "- Python 依靠缩进，使用缩进来定义范围，例如循环、函数和类的范围，而非如其他语言一般使用大括号。\n",
    "\n",
    "- Python 使用缩进来指示代码块，当语句以冒号 `:` 结尾时，缩进的语句视为代码块，而非如其他语言一般，代码中的缩进只是为了可读性。\n",
    "\n",
    "- Python 具有用于代码内文档的注释功能。注释以 `#` 开头，Python 会将该行的其后部分呈现为注释。\n",
    "\n",
    "- Python 是大小写敏感的。"
   ]
  },
  {
   "cell_type": "code",
   "execution_count": null,
   "metadata": {},
   "outputs": [],
   "source": [
    "# 这是一条注释。\n",
    "# 这是另一条注释。\n",
    "if True:\n",
    "    print(\"Hello World!\")  # print前面若无缩进，则会报错。"
   ]
  },
  {
   "cell_type": "markdown",
   "metadata": {},
   "source": [
    "### 输出"
   ]
  },
  {
   "cell_type": "markdown",
   "metadata": {},
   "source": [
    "`print()` 将括号内的内容输出到终端，括号中需要输出的字符串用双引号 `\"` 前后括起来，所有引号内的空间，诸如空格与制表符，都将按原样保留；"
   ]
  },
  {
   "cell_type": "code",
   "execution_count": null,
   "metadata": {},
   "outputs": [],
   "source": [
    "print(\"Hello World!\")"
   ]
  },
  {
   "cell_type": "markdown",
   "metadata": {},
   "source": [
    "若字符串中已有`\"\"`，则改为用单引号`'`前后括起来；"
   ]
  },
  {
   "cell_type": "code",
   "execution_count": null,
   "metadata": {},
   "outputs": [],
   "source": [
    "print('\"Hello World!\"')\n",
    "print(\"'Hello World!'\")"
   ]
  },
  {
   "cell_type": "markdown",
   "metadata": {},
   "source": [
    "`print()` 可以使用逗号 `,` 来分隔多个字符串，这些字符串默认会被空格分隔；"
   ]
  },
  {
   "cell_type": "code",
   "execution_count": null,
   "metadata": {},
   "outputs": [],
   "source": [
    "print(\"Hello World!\",\"Let's get started!\")"
   ]
  },
  {
   "cell_type": "markdown",
   "metadata": {},
   "source": [
    "在字符串最后加上 `sep` 参数，可自定义分隔符，比如将分隔符改为换行符；也可每行写一个 `print()` ，每个 `print()` 会默认在一行结尾加上换行符；"
   ]
  },
  {
   "cell_type": "code",
   "execution_count": null,
   "metadata": {},
   "outputs": [],
   "source": [
    "print(\"Hello\", \"world\", \"this\", \"is\", \"Python\", sep = '\\n')\n",
    "print(\"Hello\")  \n",
    "print(\"World\")  \n",
    "print(\"this is Python\")"
   ]
  },
  {
   "cell_type": "markdown",
   "metadata": {},
   "source": [
    "如果不想要换行，可在字符串后加上 `end` 参数，将默认的换行符替换为所需字符；"
   ]
  },
  {
   "cell_type": "code",
   "execution_count": null,
   "metadata": {},
   "outputs": [],
   "source": [
    "print(\"Hello\", end = ', ')  \n",
    "print(\"World\", end = ', ')  \n",
    "print(\"this is Python\",end = '.')"
   ]
  },
  {
   "cell_type": "markdown",
   "metadata": {},
   "source": [
    "使用三个单引号 `'''` 或三个双引号 `\"\"\"` 来指定多行字符串；"
   ]
  },
  {
   "cell_type": "code",
   "execution_count": null,
   "metadata": {},
   "outputs": [],
   "source": [
    "# 使用三引号字符串  \n",
    "multi_line_string = \"\"\"\n",
    "这是第一行。\n",
    "这是第二行。\n",
    "这是第三行。\n",
    "\"\"\"\n",
    "\n",
    "# 输出多行字符串  \n",
    "print(multi_line_string)"
   ]
  },
  {
   "cell_type": "markdown",
   "metadata": {},
   "source": [
    "三引号字符串中的换行符、引号和缩进将被保留，因此输出将准确反映原始字符串的格式，即“所见即所得”；"
   ]
  },
  {
   "cell_type": "code",
   "execution_count": null,
   "metadata": {},
   "outputs": [],
   "source": [
    "# 使用三引号字符串，并在每行之间添加额外的换行符\n",
    "multi_line_string = \"\"\"\n",
    "“这是第一行。”\n",
    "\n",
    "‘这是第二行。’\n",
    "\n",
    "    这是第三行。\n",
    "\"\"\"\n",
    "# 输出多行字符串\n",
    "print(multi_line_string)"
   ]
  },
  {
   "cell_type": "markdown",
   "metadata": {},
   "source": [
    "#### 格式化数据"
   ]
  },
  {
   "cell_type": "markdown",
   "metadata": {},
   "source": [
    "`format()` 方法用于格式化字符串。它有两种主要用法：\n",
    "1. 通过位置参数\n",
    "2. 通过关键字参数。\n",
    "\n",
    "下面是一些使用 `format()` 方法的示例："
   ]
  },
  {
   "cell_type": "markdown",
   "metadata": {},
   "source": [
    "##### 1.使用位置参数"
   ]
  },
  {
   "cell_type": "markdown",
   "metadata": {},
   "source": [
    "`{}` 是占位符，`format()` 方法中的参数会按顺序替换这些占位符；<br><br>\n",
    "Python从0开始计数，索引中的第一位是0，第二位是1，以此类推；<br><br>\n",
    "`{0}` 对应的是变量 `\"Alice\"`，是该格式化方法中的**第一个**参数，`{1}` 对应的是变量 `\"Monday\"`，是该格式化方法中的**第二个**参数；"
   ]
  },
  {
   "cell_type": "code",
   "execution_count": null,
   "metadata": {},
   "outputs": [],
   "source": [
    "template = \"Hello, {}! Today is {}.\"\n",
    "print(template.format(\"Alice\", \"Monday\"))\n",
    "\n",
    "template = \"Hello, {0}! Today is {1}.\"\n",
    "print(template.format(\"Alice\", \"Monday\"))\n",
    "\n",
    "template = \"Hello, {1}! Today is {0}.\"\n",
    "print(template.format(\"Alice\", \"Monday\"))"
   ]
  },
  {
   "cell_type": "markdown",
   "metadata": {},
   "source": [
    "##### 2.使用关键字参数"
   ]
  },
  {
   "cell_type": "markdown",
   "metadata": {},
   "source": [
    "`format()` 方法中的参数会按关键字名称替换，使用关键字参数可以让代码更具可读性；"
   ]
  },
  {
   "cell_type": "code",
   "execution_count": null,
   "metadata": {},
   "outputs": [],
   "source": [
    "template = \"Hello, {name}! Today is {day}.\"\n",
    "print(template.format(name=\"Alice\", day=\"Monday\"))\n",
    "\n",
    "template = \"Hello, {name}! Today is {day}.\"\n",
    "print(template.format(day=\"Monday\", name=\"Alice\"))"
   ]
  },
  {
   "cell_type": "markdown",
   "metadata": {},
   "source": [
    "##### 3. `str.format()` 方法"
   ]
  },
  {
   "cell_type": "markdown",
   "metadata": {},
   "source": [
    " `str.format()` 方法用于更复杂的格式化选项；\n",
    " - 格式化数字"
   ]
  },
  {
   "cell_type": "code",
   "execution_count": null,
   "metadata": {},
   "outputs": [],
   "source": [
    "# 格式化浮点数，保留两位小数\n",
    "price = 123.4567\n",
    "print(\"{:.2f}\".format(price))\n",
    "\n",
    "price = 123.4567\n",
    "print(\"{:.3f}\".format(price))\n",
    "\n",
    "# 格式化整数，用0填充至指定宽度\n",
    "number = 12\n",
    "print(\"{:04d}\".format(number))"
   ]
  },
  {
   "cell_type": "markdown",
   "metadata": {},
   "source": [
    "- 填充和对齐字符串"
   ]
  },
  {
   "cell_type": "code",
   "execution_count": null,
   "metadata": {},
   "outputs": [],
   "source": [
    "text = \"hello\"\n",
    "print(\"{:^10}\".format(text))  # 居中，总宽度为10\n",
    "print(\"{:~^10}\".format(text))  # 居中，总宽度为10，文字以外用~填充\n",
    "print(\"{:_^10}\".format(text))  # 居中，总宽度为10，文字以外用_填充\n",
    "print(\"{:>10}\".format(text))  # 右对齐，总宽度为10\n",
    "print(\"{:_>10}\".format(text))  # 右对齐，总宽度为10，文字以外用_填充\n",
    "print(\"{:<10}\".format(text))  # 左对齐，总宽度为10\n",
    "print(\"{:=<10}\".format(text))  # 左对齐，总宽度为10，文字以外用=填充"
   ]
  },
  {
   "cell_type": "markdown",
   "metadata": {},
   "source": [
    "- 格式化多个值"
   ]
  },
  {
   "cell_type": "code",
   "execution_count": null,
   "metadata": {},
   "outputs": [],
   "source": [
    "x = 1\n",
    "y = 2.34\n",
    "z = \"world\"\n",
    "print(\"Hello, {}! The value of x is {}, y is {:.2f}, and z is {}.\".format(\"Alice\", x, y, z))"
   ]
  },
  {
   "cell_type": "markdown",
   "metadata": {},
   "source": [
    "从Python 3.6开始，可以使用 `f-string` 来格式化字符串,更加简洁、直观；"
   ]
  },
  {
   "cell_type": "code",
   "execution_count": null,
   "metadata": {},
   "outputs": [],
   "source": [
    "name = \"Alice\"\n",
    "day = \"Monday\"\n",
    "print(f\"Hello, {name}! Today is {day}.\")"
   ]
  }
 ],
 "metadata": {
  "kernelspec": {
   "display_name": "Python 3",
   "language": "python",
   "name": "python3"
  },
  "language_info": {
   "codemirror_mode": {
    "name": "ipython",
    "version": 3
   },
   "file_extension": ".py",
   "mimetype": "text/x-python",
   "name": "python",
   "nbconvert_exporter": "python",
   "pygments_lexer": "ipython3",
   "version": "3.12.1"
  }
 },
 "nbformat": 4,
 "nbformat_minor": 2
}
